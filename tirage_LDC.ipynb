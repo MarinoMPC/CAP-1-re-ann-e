{
 "cells": [
  {
   "cell_type": "markdown",
   "metadata": {},
   "source": [
    "Lors de la Ligue des Champions 2021-2022, le LOSC était tombé sur Chelsea au tirage au sort. Mais après un vice de procédure, le tirage avait été annulé et reprogrammé. Le LOSC était à nouveau tombé sur Chelsea. \n",
    "\n",
    "Ce programme propose de calculer par une approche fréquentielle la probabilité qu'avait le LOSC de tomber sur Chelsea. \n",
    "\n",
    "Pour l'instant, on prouve seulement que Lille avait a priori 1 chance sur 5 de tomber dessus. Il est possible d'améliorer le programme pour montrer que par indépendance des événements, les probabilités de ces événements se multiplient."
   ]
  },
  {
   "cell_type": "code",
   "execution_count": 1,
   "metadata": {},
   "outputs": [],
   "source": [
    "import numpy as np\n",
    "from matplotlib import pyplot as plt\n",
    "from numpy import random as rd\n",
    "from copy import deepcopy"
   ]
  },
  {
   "cell_type": "code",
   "execution_count": 2,
   "metadata": {},
   "outputs": [],
   "source": [
    "chapeau_1=['LOSC','Real','Bayern','Liverpool','Juventus']\n",
    "chapeau_2=['PSG','Chelsea','FC Porto','AC Milan','FC Bâle']"
   ]
  },
  {
   "cell_type": "code",
   "execution_count": 3,
   "metadata": {},
   "outputs": [
    {
     "name": "stdout",
     "output_type": "stream",
     "text": [
      "[['LOSC' 'FC Bâle']\n",
      " ['Bayern' 'FC Porto']\n",
      " ['Juventus' 'PSG']\n",
      " ['Liverpool' 'Chelsea']\n",
      " ['Real' 'AC Milan']]\n"
     ]
    }
   ],
   "source": [
    "def tirage(chap1,chap2):\n",
    "    ch1,ch2=deepcopy(chap1),deepcopy(chap2)\n",
    "    groupes=[]\n",
    "    for i in range(np.size(chap1)):\n",
    "        tirage_1=rd.choice(np.arange(0,5-i,1))\n",
    "        tirage_2=rd.choice(np.arange(0,5-i,1))\n",
    "        groupes.append([ch1[tirage_1],ch2[tirage_2]])\n",
    "        ch1.pop(tirage_1)\n",
    "        ch2.pop(tirage_2)\n",
    "    return(np.array(groupes))\n",
    "print(tirage(chapeau_1,chapeau_2))"
   ]
  },
  {
   "cell_type": "code",
   "execution_count": 4,
   "metadata": {},
   "outputs": [],
   "source": [
    "def tirages_en_serie(chap1,chap2,nb_tirages):\n",
    "    s=0\n",
    "    for i in range(nb_tirages):\n",
    "        tirage_i=tirage(chap1,chap2)\n",
    "        for j in range(np.size(chapeau_1)):\n",
    "            if tirage_i[j,0]=='LOSC' and tirage_i[j,1]=='Chelsea':\n",
    "                s+=1\n",
    "    print(str(s/nb_tirages*100)+' %')\n",
    "\n"
   ]
  },
  {
   "cell_type": "code",
   "execution_count": 5,
   "metadata": {},
   "outputs": [
    {
     "name": "stdout",
     "output_type": "stream",
     "text": [
      "19.98 %\n"
     ]
    }
   ],
   "source": [
    "tirages_en_serie(chapeau_1,chapeau_2,10000)"
   ]
  },
  {
   "cell_type": "code",
   "execution_count": null,
   "metadata": {},
   "outputs": [],
   "source": []
  }
 ],
 "metadata": {
  "kernelspec": {
   "display_name": "Python 3 (ipykernel)",
   "language": "python",
   "name": "python3"
  },
  "language_info": {
   "codemirror_mode": {
    "name": "ipython",
    "version": 3
   },
   "file_extension": ".py",
   "mimetype": "text/x-python",
   "name": "python",
   "nbconvert_exporter": "python",
   "pygments_lexer": "ipython3",
   "version": "3.10.4"
  }
 },
 "nbformat": 4,
 "nbformat_minor": 4
}
