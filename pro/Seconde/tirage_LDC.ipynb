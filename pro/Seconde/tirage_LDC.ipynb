{
 "cells": [
  {
   "cell_type": "markdown",
   "metadata": {},
   "source": [
    "Lors de la Ligue des Champions 2021-2022, le LOSC était tombé sur Chelsea au tirage au sort. Mais après un vice de procédure, le tirage avait été annulé et reprogrammé. Le LOSC était à nouveau tombé sur Chelsea. \n",
    "\n",
    "Ce programme propose de calculer par une approche fréquentielle la probabilité qu'avait le LOSC de tomber sur Chelsea. \n",
    "\n",
    "Pour l'instant, on prouve seulement que Lille avait a priori 1 chance sur 8 de tomber dessus. Il est possible d'améliorer le programme pour montrer que par indépendance des événements, les probabilités de ces événements se multiplient.\n",
    "\n",
    "Il faut aussi prendre en compte le fait qu'un club ne peut pas tomber contre un autre venant du même pays. Lille n'aurait pas pu tomber sur le PSG par exemple"
   ]
  },
  {
   "cell_type": "code",
   "execution_count": 37,
   "metadata": {},
   "outputs": [],
   "source": [
    "#### Importations ####\n",
    "\n",
    "import numpy as np\n",
    "from numpy import random as rd\n",
    "from copy import deepcopy"
   ]
  },
  {
   "cell_type": "code",
   "execution_count": 29,
   "metadata": {},
   "outputs": [],
   "source": [
    "#### Chapeaux 1 et 2 du tirage ####\n",
    "\n",
    "chapeau_1=['Liverpool','Ajax','Real','Bayern','Manchester United','LOSC','Juventus','Manchester City']\n",
    "chapeau_2=['Atletico','Sporting Portugal','Inter Milan','Benfica','Villareal','Salzburg','Chelsea','PSG']"
   ]
  },
  {
   "cell_type": "code",
   "execution_count": 30,
   "metadata": {},
   "outputs": [],
   "source": [
    "#### Fonction permettant de simuler un tirage ####\n",
    "\n",
    "def tirage(chap1,chap2):\n",
    "    ch1,ch2=deepcopy(chap1),deepcopy(chap2)\n",
    "    groupes=[]\n",
    "    n=len(chap1)\n",
    "    for i in range(np.size(chap1)):\n",
    "        tirage_1=rd.choice(np.arange(0,n-i,1))\n",
    "        tirage_2=rd.choice(np.arange(0,n-i,1))\n",
    "        groupes.append([ch1[tirage_1],ch2[tirage_2]])\n",
    "        ch1.pop(tirage_1)\n",
    "        ch2.pop(tirage_2)\n",
    "    return(np.array(groupes))\n",
    "\n",
    "\n",
    "\n",
    "#### Fonction permettant d'afficher les résultats du tirage ####\n",
    "\n",
    "def afficher_resultat_tirage(groupes):\n",
    "    for i in range(groupes.shape[0]):\n",
    "        print('Match '+str(i+1)+' : '+groupes[i,0]+'   VS   '+groupes[i,1])\n",
    "\n",
    "        \n",
    "        \n",
    "#### Fonction permettant de simuler un nombre « nb_tirages » de tirages ####\n",
    "\n",
    "def tirages_en_serie(chap1,chap2,nb_tirages):\n",
    "    s=0\n",
    "    for i in range(nb_tirages):\n",
    "        tirage_i=tirage(chap1,chap2)\n",
    "        for j in range(np.size(chapeau_1)):\n",
    "            if tirage_i[j,0]=='LOSC' and tirage_i[j,1]=='Chelsea':\n",
    "                s+=1\n",
    "    return('Fréquence du match Chelsea - LOSC : '+str(s/nb_tirages*100)+' %')"
   ]
  },
  {
   "cell_type": "code",
   "execution_count": 34,
   "metadata": {},
   "outputs": [
    {
     "name": "stdout",
     "output_type": "stream",
     "text": [
      "Match 1 : Ajax   VS   Sporting Portugal\n",
      "Match 2 : Juventus   VS   Benfica\n",
      "Match 3 : Manchester United   VS   PSG\n",
      "Match 4 : Real   VS   Villareal\n",
      "Match 5 : Bayern   VS   Atletico\n",
      "Match 6 : Manchester City   VS   Chelsea\n",
      "Match 7 : LOSC   VS   Inter Milan\n",
      "Match 8 : Liverpool   VS   Salzburg\n"
     ]
    }
   ],
   "source": [
    "#### Résultat d'un tirage aléatoire ####\n",
    "\n",
    "# Exécuter cette cellule pour relancer un nouveau tirage\n",
    "\n",
    "resultat_aleatoire=tirage(chapeau_1,chapeau_2)\n",
    "afficher_resultat_tirage(resultat_aleatoire)"
   ]
  },
  {
   "cell_type": "code",
   "execution_count": 61,
   "metadata": {},
   "outputs": [
    {
     "name": "stdout",
     "output_type": "stream",
     "text": [
      "Fréquence du match Chelsea - LOSC : 10.0 %\n"
     ]
    }
   ],
   "source": [
    "#### Fréquence du match Chelsea - LOSC après un nombre « nb_tirages » de tirages ####\n",
    "\n",
    "nb_tirages=10000            # Nombre de répétitions d'un tirage\n",
    "\n",
    "\n",
    "\n",
    "print(tirages_en_serie(chapeau_1,chapeau_2,nb_tirages))"
   ]
  },
  {
   "cell_type": "code",
   "execution_count": null,
   "metadata": {},
   "outputs": [],
   "source": []
  }
 ],
 "metadata": {
  "kernelspec": {
   "display_name": "Python 3 (ipykernel)",
   "language": "python",
   "name": "python3"
  },
  "language_info": {
   "codemirror_mode": {
    "name": "ipython",
    "version": 3
   },
   "file_extension": ".py",
   "mimetype": "text/x-python",
   "name": "python",
   "nbconvert_exporter": "python",
   "pygments_lexer": "ipython3",
   "version": "3.10.4"
  }
 },
 "nbformat": 4,
 "nbformat_minor": 4
}
