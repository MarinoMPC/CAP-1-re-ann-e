{
 "cells": [
  {
   "cell_type": "code",
   "execution_count": 7,
   "id": "fbb93c24",
   "metadata": {},
   "outputs": [],
   "source": [
    "import numpy as np \n",
    "from random import choice\n",
    "from matplotlib import pyplot as plt"
   ]
  },
  {
   "cell_type": "code",
   "execution_count": 26,
   "id": "dcca2dca",
   "metadata": {},
   "outputs": [],
   "source": [
    "nb_boules_rouges,nb_boules_vertes,nb_boules_bleues=1,5,2\n",
    "gain_rouge,gain_verte,gain_bleue=10,-1,-3\n",
    "n_lancers=3"
   ]
  },
  {
   "cell_type": "code",
   "execution_count": 27,
   "id": "b29a4ea0",
   "metadata": {},
   "outputs": [],
   "source": [
    "urne=['Rouge' for i in range(nb_boules_rouges)]+['Verte' for i  in range(nb_boules_vertes)]+['Bleue' for i in range(nb_boules_bleues)]"
   ]
  },
  {
   "cell_type": "code",
   "execution_count": 28,
   "id": "dc757e5d",
   "metadata": {},
   "outputs": [],
   "source": [
    "def tirages(n_lancers):\n",
    "    liste_resultats=[]\n",
    "    for i in range(n_lancers):\n",
    "        resultat=choice(urne)\n",
    "        liste_resultats.append(resultat)\n",
    "    return(liste_resultats)\n",
    "\n",
    "def compteur(liste_resultats):\n",
    "    nb_rouges_sorties,nb_vertes_sorties,nb_bleues_sorties=0,0,0\n",
    "    for i in range(len(liste_resultats)):\n",
    "        if liste_resultats[i]=='Rouge':\n",
    "            nb_rouges_sorties+=1\n",
    "        elif liste_resultats[i]=='Bleue':\n",
    "            nb_bleues_sorties+=1\n",
    "        else:\n",
    "            nb_vertes_sorties+=1\n",
    "    return(nb_rouges_sorties,nb_vertes_sorties,nb_bleues_sorties)\n",
    "\n",
    "def somme_finale(nb_rouges_sorties,nb_vertes_sorties,nb_bleues_sorties):\n",
    "    gains=nb_rouges_sorties*gain_rouge+nb_vertes_sorties*gain_verte+nb_bleues_sorties*gain_bleue\n",
    "    return(gains)\n",
    "\n",
    "def victoire_ou_defaite(gains):\n",
    "    victoire=(gains>0)\n",
    "    if victoire:\n",
    "        return('Bravo, vous avez gagné !')\n",
    "    else:\n",
    "        return(\"Dommage, c'est perdu !\")\n",
    "    \n"
   ]
  },
  {
   "cell_type": "code",
   "execution_count": 29,
   "id": "cd4c2032",
   "metadata": {},
   "outputs": [
    {
     "name": "stdout",
     "output_type": "stream",
     "text": [
      "Gains pour cette partie : -5 €\n",
      "\n",
      "\n",
      "Dommage, c'est perdu !\n"
     ]
    }
   ],
   "source": [
    "##### SIMULATION #####\n",
    "tirage=tirages(n_lancers)\n",
    "nb_rouges_sorties,nb_vertes_sorties,nb_bleues_sorties=compteur(tirage)\n",
    "gains=somme_finale(nb_rouges_sorties,nb_vertes_sorties,nb_bleues_sorties)\n",
    "\n",
    "print('Gains pour cette partie : '+str(gains)+' €\\n\\n')\n",
    "      \n",
    "print(victoire_ou_defaite(gains))"
   ]
  },
  {
   "cell_type": "code",
   "execution_count": 30,
   "id": "1900a71d",
   "metadata": {
    "scrolled": false
   },
   "outputs": [
    {
     "data": {
      "text/plain": [
       "(array([ 0., 10., 20., 30., 40., 50., 60., 70.]),\n",
       " [Text(0, 0, ''),\n",
       "  Text(0, 0, ''),\n",
       "  Text(0, 0, ''),\n",
       "  Text(0, 0, ''),\n",
       "  Text(0, 0, ''),\n",
       "  Text(0, 0, ''),\n",
       "  Text(0, 0, ''),\n",
       "  Text(0, 0, '')])"
      ]
     },
     "execution_count": 30,
     "metadata": {},
     "output_type": "execute_result"
    },
    {
     "data": {
      "image/png": "[encoded data removed]",
      "text/plain": [
       "<Figure size 288x432 with 1 Axes>"
      ]
     },
     "metadata": {
      "needs_background": "light"
     },
     "output_type": "display_data"
    }
   ],
   "source": [
    "fig,ax=plt.subplots(figsize=(4,6))\n",
    "plt.subplots_adjust(left=0.17)\n",
    "abscisses=[1,2,3]\n",
    "hauteur_batons=[nb_rouges_sorties/n_lancers*100,nb_vertes_sorties/n_lancers*100,nb_bleues_sorties/n_lancers*100]\n",
    "largeur=0.5\n",
    "\n",
    "ax.bar(abscisses, hauteur_batons, largeur, color=['r','darkgreen','b'],linewidth=10)\n",
    "ax.set_ylabel('Fréquence de sortie (%)',fontsize=16)\n",
    "ax.set_title('N = '+str(n_lancers),fontsize=17)\n",
    "plt.xticks([1,2,3],['Rouges','Vertes','Bleues'],fontsize=14)\n",
    "plt.yticks(fontsize=14)\n",
    "#plt.savefig('diagramme_fréquences_'+str(n_lancers)+'lancers.jpg')"
   ]
  },
  {
   "cell_type": "code",
   "execution_count": null,
   "id": "c20abe80",
   "metadata": {},
   "outputs": [],
   "source": []
  },
  {
   "cell_type": "code",
   "execution_count": null,
   "id": "109b1658",
   "metadata": {},
   "outputs": [],
   "source": []
  },
  {
   "cell_type": "code",
   "execution_count": null,
   "id": "667324ad",
   "metadata": {},
   "outputs": [],
   "source": []
  },
  {
   "cell_type": "code",
   "execution_count": null,
   "id": "dda09cf2",
   "metadata": {},
   "outputs": [],
   "source": []
  },
  {
   "cell_type": "code",
   "execution_count": null,
   "id": "aab7182d",
   "metadata": {},
   "outputs": [],
   "source": []
  }
 ],
 "metadata": {
  "kernelspec": {
   "display_name": "Python 3",
   "language": "python",
   "name": "python3"
  },
  "language_info": {
   "codemirror_mode": {
    "name": "ipython",
    "version": 3
   },
   "file_extension": ".py",
   "mimetype": "text/x-python",
   "name": "python",
   "nbconvert_exporter": "python",
   "pygments_lexer": "ipython3",
   "version": "3.9.5"
  }
 },
 "nbformat": 4,
 "nbformat_minor": 5
}
