{
 "cells": [
  {
   "cell_type": "markdown",
   "id": "3e31ce6e",
   "metadata": {},
   "source": [
    "Ce programme présente une modélisation affine de la pression en fonction de l'altitude dans l'atmosphère terrestre. cette approximation est valable pour des basses altitudes, mais si on ajoute le relevé de pression d'un avion à une altitude de croisière, on se rend compte de l'erreur commise par ce modèle."
   ]
  },
  {
   "cell_type": "code",
   "execution_count": 1,
   "id": "a95cc7ee",
   "metadata": {},
   "outputs": [],
   "source": [
    "import numpy as np \n",
    "from matplotlib import pyplot as plt\n",
    "import scipy"
   ]
  },
  {
   "cell_type": "code",
   "execution_count": null,
   "id": "a8866225",
   "metadata": {},
   "outputs": [],
   "source": [
    "altitude=np.array([0,500,1000,1500,2000,3000])\n",
    "pression=np.array([1013,955,900,847,797,705])\n",
    "\n",
    "point_avion=True"
   ]
  },
  {
   "cell_type": "code",
   "execution_count": 2,
   "id": "f28baa86",
   "metadata": {},
   "outputs": [],
   "source": [
    "def regressionlineaire(datax, datay):\n",
    "    \"Calcul de pente, ordonnée origine et corrélation\"\n",
    "    n = len(datax)\n",
    "    # Calcul de Moyenne(x)\n",
    "    moy_x = 0\n",
    "    for i in range(n):\n",
    "        moy_x += datax[i]\n",
    "    moy_x = moy_x / n\n",
    "    # Calcul de Moyenne(y)\n",
    "    moy_y = 0\n",
    "    for i in range(n):\n",
    "        moy_y += datay[i]\n",
    "    moy_y = moy_y / n\n",
    "    # Calcul de Moyenne(x*x)\n",
    "    moy_x2 = 0\n",
    "    for i in range(n):\n",
    "        moy_x2 += datax[i] ** 2\n",
    "    moy_x2 = moy_x2 / n\n",
    "    # Calcul de Moyenne(y*y)\n",
    "    moy_y2 = 0\n",
    "    for i in range(n):\n",
    "        moy_y2 += datay[i] ** 2\n",
    "    moy_y2 = moy_y2 / n\n",
    "    # Calcul de Moyenne(xy)\n",
    "    moy_xy = 0\n",
    "    for i in range(n):\n",
    "        moy_xy += datax[i] * datay[i]\n",
    "    moy_xy = moy_xy / n\n",
    "    # Calcul de la pente\n",
    "    pente = (moy_xy - moy_x * moy_y) / (moy_x2 - moy_x ** 2)\n",
    "    # Calcul de l'ordonnée à l'origine\n",
    "    ordonneeorigine = moy_y - moy_x * pente\n",
    "    # Calcul du coef corrélation\n",
    "    nume = moy_xy - moy_x * moy_y\n",
    "    deno = (moy_x2 - moy_x ** 2) * (moy_y2 - moy_y **2)\n",
    "    correlation = nume / np.sqrt(deno)\n",
    "    \n",
    "    return (pente, ordonneeorigine, correlation)\n",
    "\n",
    "def moindres_carres(data_x,data_y):\n",
    "    n=np.size(data_x)\n",
    "    moy_x,moy_y=np.sum(data_x)/n,np.sum(data_y)/n\n",
    "    sigma_xy=np.sum((data_x-moy_x)*(data_y-moy_y)/n)\n",
    "    var_x=np.sum((data_x-moy_x)**2/n)\n",
    "    var_y=np.sum((data_y-moy_y)**2/n)\n",
    "    \n",
    "    a=sigma_xy/var_x\n",
    "    b=moy_y-a*moy_x\n",
    "    r2=sigma_xy/np.sqrt(var_x*var_y)\n",
    "    return(a,b,r2)"
   ]
  },
  {
   "cell_type": "code",
   "execution_count": 17,
   "id": "1ba6726c",
   "metadata": {
    "scrolled": true
   },
   "outputs": [
    {
     "name": "stdout",
     "output_type": "stream",
     "text": [
      "-0.10268571428571417 1006.4142857142856 -0.9988091526498439\n",
      "-0.1026857142857143 1006.4142857142857 -0.9988091526498432\n"
     ]
    },
    {
     "data": {
      "image/png": "[encoded data removed]",
      "text/plain": [
       "<Figure size 432x432 with 1 Axes>"
      ]
     },
     "metadata": {
      "needs_background": "light"
     },
     "output_type": "display_data"
    }
   ],
   "source": [
    "a,b,r=regressionlineaire(altitude,pression)\n",
    "a2,b2,r2=moindres_carres(altitude,pression)\n",
    "print(a,b,r)\n",
    "print(a2,b2,r2)\n",
    "h=np.linspace(0,3000,1000)\n",
    "\n",
    "\n",
    "fig,ax=plt.subplots(figsize=(6,6))\n",
    "ax.scatter(altitude,pression)\n",
    "ax.plot(h,a*h+b,c='r',linestyle='--')\n",
    "ax.text(1000,980,r'$r$ = '+str(r),fontsize=15)\n",
    "plt.xticks(fontsize=15)\n",
    "plt.yticks(fontsize=15)\n",
    "ax.set_xlabel('Altitude (m)',fontsize=16)\n",
    "ax.set_ylabel('Pression (hPa)',fontsize=16)\n",
    "\n",
    "if point_avion==True:\n",
    "    ax.scatter([13000],[170],c='darkgreen')\n",
    "    h2=np.linspace(3000,13000,1000)\n",
    "    ax.plot(h2,a*h2+b,c='r',linestyle='--')"
   ]
  },
  {
   "cell_type": "code",
   "execution_count": 6,
   "id": "258080ea",
   "metadata": {},
   "outputs": [
    {
     "name": "stdout",
     "output_type": "stream",
     "text": [
      "Pente :  -0.10268571428571417 Ordonnée à l'origine :  1006.4142857142856\n",
      "Pression à 1800 m :  821.5800000000002\n"
     ]
    }
   ],
   "source": [
    "print('Pente : ',a,\"Ordonnée à l'origine : \",b)\n",
    "print('Pression à 1800 m : ',a*1800+b)"
   ]
  },
  {
   "cell_type": "code",
   "execution_count": 7,
   "id": "1e60de8a",
   "metadata": {},
   "outputs": [
    {
     "name": "stdout",
     "output_type": "stream",
     "text": [
      "(-0.10268571428571417, 1006.4142857142856, -0.9988091526498439)\n"
     ]
    }
   ],
   "source": [
    "print(regressionlineaire(altitude,pression))"
   ]
  },
  {
   "cell_type": "code",
   "execution_count": 8,
   "id": "f761942c",
   "metadata": {},
   "outputs": [
    {
     "name": "stdout",
     "output_type": "stream",
     "text": [
      "0.9976197234170993\n"
     ]
    }
   ],
   "source": [
    "print(r**2)"
   ]
  },
  {
   "cell_type": "code",
   "execution_count": null,
   "id": "42c660d6",
   "metadata": {},
   "outputs": [],
   "source": []
  }
 ],
 "metadata": {
  "kernelspec": {
   "display_name": "Python 3 (ipykernel)",
   "language": "python",
   "name": "python3"
  },
  "language_info": {
   "codemirror_mode": {
    "name": "ipython",
    "version": 3
   },
   "file_extension": ".py",
   "mimetype": "text/x-python",
   "name": "python",
   "nbconvert_exporter": "python",
   "pygments_lexer": "ipython3",
   "version": "3.10.4"
  }
 },
 "nbformat": 4,
 "nbformat_minor": 5
}
