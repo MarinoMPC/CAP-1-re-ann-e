{
 "cells": [
  {
   "cell_type": "code",
   "execution_count": 2,
   "id": "6aaa13c4",
   "metadata": {},
   "outputs": [
    {
     "data": {
      "text/latex": [
       "On s'intéresse ici au buzz d'une vidéo Tiktok sur 3 jours (72 heures). On note $n$ le nombre d'heures écoulées après la publication de la vidéo.\n",
       "On appelle $p_n$ le nombre de partages de la vidéo lors de la n-ième heure, et $v_n$ son nombre de vues. \n",
       "On suppose que chaque personne partage en moyenne la vidéo à $q$ personnes. On suppose qu'à chaque partage correspond une vue, et que la vidéo a initialement 0 vue. \n"
      ],
      "text/plain": [
       "<IPython.core.display.Latex object>"
      ]
     },
     "metadata": {},
     "output_type": "display_data"
    }
   ],
   "source": [
    "%%latex\n",
    "On s'intéresse ici au buzz d'une vidéo Tiktok sur 3 jours (72 heures). On note $n$ le nombre d'heures écoulées après la publication de la vidéo.\n",
    "On appelle $p_n$ le nombre de partages de la vidéo lors de la n-ième heure, et $v_n$ son nombre de vues. \n",
    "On suppose que chaque personne partage en moyenne la vidéo à $q$ personnes. On suppose qu'à chaque partage correspond une vue, et que la vidéo a initialement 0 vue. "
   ]
  },
  {
   "cell_type": "code",
   "execution_count": 3,
   "id": "7ec03e91",
   "metadata": {},
   "outputs": [],
   "source": [
    "#### Bloc 1 ####\n",
    "\n",
    "import numpy as np\n",
    "from matplotlib import pyplot as plt"
   ]
  },
  {
   "cell_type": "code",
   "execution_count": 4,
   "id": "ba4b7c5e",
   "metadata": {},
   "outputs": [],
   "source": [
    "#### Bloc 2 ####\n",
    "\n",
    "q=2                                # Nombre de partages par personne qui a vu la vidéo\n",
    "n=17                                # Nombre d'heures écoulées après la publication\n",
    "                \n"
   ]
  },
  {
   "cell_type": "code",
   "execution_count": 5,
   "id": "9b98dc07",
   "metadata": {},
   "outputs": [],
   "source": [
    "#### Bloc 3 ####\n",
    "\n",
    "p=[q]\n",
    "for i in range(2,n+1):\n",
    "    p_i=p[-1]*q\n",
    "    p.append(p_i)"
   ]
  },
  {
   "cell_type": "code",
   "execution_count": 6,
   "id": "9117390a",
   "metadata": {},
   "outputs": [
    {
     "data": {
      "image/png": "[encoded data removed]",
      "text/plain": [
       "<Figure size 720x288 with 1 Axes>"
      ]
     },
     "metadata": {
      "needs_background": "light"
     },
     "output_type": "display_data"
    }
   ],
   "source": [
    "#### Bloc 4 ####\n",
    "\n",
    "heures=np.linspace(1,n,n)\n",
    "puissance=int(np.log10(float(p[-1]))//1)\n",
    "\n",
    "\n",
    "fig,ax=plt.subplots(figsize=(10,4))\n",
    "ax.scatter(heures,p)\n",
    "ax.set_xlabel(\"Nombre d'heures après publication\",fontsize=15)\n",
    "ax.set_ylabel(r\"Nombre de partages\",fontsize=15)\n",
    "plt.ticklabel_format(useMathText=True)\n",
    "plt.xticks(fontsize=14)\n",
    "plt.yticks(fontsize=14)\n",
    "plt.grid()"
   ]
  },
  {
   "cell_type": "code",
   "execution_count": null,
   "id": "e499d7c6",
   "metadata": {},
   "outputs": [],
   "source": []
  },
  {
   "cell_type": "code",
   "execution_count": null,
   "id": "6a958e1c",
   "metadata": {},
   "outputs": [],
   "source": []
  },
  {
   "cell_type": "code",
   "execution_count": null,
   "id": "8b2b410e",
   "metadata": {},
   "outputs": [],
   "source": []
  }
 ],
 "metadata": {
  "kernelspec": {
   "display_name": "Python 3 (ipykernel)",
   "language": "python",
   "name": "python3"
  },
  "language_info": {
   "codemirror_mode": {
    "name": "ipython",
    "version": 3
   },
   "file_extension": ".py",
   "mimetype": "text/x-python",
   "name": "python",
   "nbconvert_exporter": "python",
   "pygments_lexer": "ipython3",
   "version": "3.10.4"
  }
 },
 "nbformat": 4,
 "nbformat_minor": 5
}
