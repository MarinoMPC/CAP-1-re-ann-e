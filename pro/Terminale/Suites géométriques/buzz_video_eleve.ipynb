{
 "cells": [
  {
   "cell_type": "code",
   "execution_count": 5,
   "id": "7ec03e91",
   "metadata": {},
   "outputs": [],
   "source": [
    "#### Bloc 1 ####\n",
    "\n",
    "import numpy as np\n",
    "from matplotlib import pyplot as plt"
   ]
  },
  {
   "cell_type": "code",
   "execution_count": 6,
   "id": "ba4b7c5e",
   "metadata": {},
   "outputs": [
    {
     "ename": "SyntaxError",
     "evalue": "invalid syntax (2534532012.py, line 3)",
     "output_type": "error",
     "traceback": [
      "\u001b[0;36m  File \u001b[0;32m\"/tmp/ipykernel_190852/2534532012.py\"\u001b[0;36m, line \u001b[0;32m3\u001b[0m\n\u001b[0;31m    q=                                # Nombre de partages par personne qui a vu la vidéo\u001b[0m\n\u001b[0m                                      ^\u001b[0m\n\u001b[0;31mSyntaxError\u001b[0m\u001b[0;31m:\u001b[0m invalid syntax\n"
     ]
    }
   ],
   "source": [
    "#### Bloc 2 ####\n",
    "\n",
    "q=                                # Nombre de partages par personne qui a vu la vidéo\n",
    "n=                                # Nombre d'heures écoulées après la publication\n",
    "                \n"
   ]
  },
  {
   "cell_type": "code",
   "execution_count": 7,
   "id": "9b98dc07",
   "metadata": {},
   "outputs": [],
   "source": [
    "#### Bloc 3 ####\n",
    "\n",
    "p=[q]\n",
    "for i in range(2,n+1):\n",
    "    p_i=p[-1]*q\n",
    "    p.append(p_i)"
   ]
  },
  {
   "cell_type": "code",
   "execution_count": 8,
   "id": "9117390a",
   "metadata": {},
   "outputs": [
    {
     "data": {
      "image/png": "[encoded data removed]",
      "text/plain": [
       "<Figure size 720x288 with 1 Axes>"
      ]
     },
     "metadata": {
      "needs_background": "light"
     },
     "output_type": "display_data"
    }
   ],
   "source": [
    "#### Bloc 4 ####\n",
    "\n",
    "heures=np.linspace(1,n,n)\n",
    "puissance=int(np.log10(float(p[-1]))//1)\n",
    "\n",
    "\n",
    "fig,ax=plt.subplots(figsize=(10,4))\n",
    "ax.scatter(heures,p)\n",
    "ax.set_xlabel(\"Nombre d'heures après publication\",fontsize=15)\n",
    "ax.set_ylabel(r\"Nombre de partages\",fontsize=15)\n",
    "plt.ticklabel_format(useMathText=True)\n",
    "plt.xticks(fontsize=14)\n",
    "plt.yticks(fontsize=14)\n",
    "plt.grid()"
   ]
  },
  {
   "cell_type": "code",
   "execution_count": null,
   "id": "e499d7c6",
   "metadata": {},
   "outputs": [],
   "source": []
  },
  {
   "cell_type": "code",
   "execution_count": null,
   "id": "6a958e1c",
   "metadata": {},
   "outputs": [],
   "source": []
  },
  {
   "cell_type": "code",
   "execution_count": null,
   "id": "8b2b410e",
   "metadata": {},
   "outputs": [],
   "source": []
  }
 ],
 "metadata": {
  "kernelspec": {
   "display_name": "Python 3 (ipykernel)",
   "language": "python",
   "name": "python3"
  },
  "language_info": {
   "codemirror_mode": {
    "name": "ipython",
    "version": 3
   },
   "file_extension": ".py",
   "mimetype": "text/x-python",
   "name": "python",
   "nbconvert_exporter": "python",
   "pygments_lexer": "ipython3",
   "version": "3.10.4"
  }
 },
 "nbformat": 4,
 "nbformat_minor": 5
}
