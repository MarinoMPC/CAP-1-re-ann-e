{
 "cells": [
  {
   "cell_type": "code",
   "execution_count": 9,
   "id": "f1e0d2a1",
   "metadata": {},
   "outputs": [],
   "source": [
    "#### Importation des modules ####\n",
    "\n",
    "import numpy as np\n",
    "from matplotlib import pyplot as plt"
   ]
  },
  {
   "cell_type": "code",
   "execution_count": 10,
   "id": "b9c0861d",
   "metadata": {},
   "outputs": [
    {
     "ename": "SyntaxError",
     "evalue": "invalid syntax (3042623480.py, line 3)",
     "output_type": "error",
     "traceback": [
      "\u001b[0;36m  File \u001b[0;32m\"/tmp/ipykernel_7006/3042623480.py\"\u001b[0;36m, line \u001b[0;32m3\u001b[0m\n\u001b[0;31m    taux=                             # taux annuel en %\u001b[0m\n\u001b[0m                                      ^\u001b[0m\n\u001b[0;31mSyntaxError\u001b[0m\u001b[0;31m:\u001b[0m invalid syntax\n"
     ]
    }
   ],
   "source": [
    "#### Valeurs initiales ####\n",
    "\n",
    "taux=                             # taux annuel en %\n",
    "nb_annees=                        # Nombre d'années sur lesquelles on fait la simulation\n",
    "\n",
    "# Personne 1\n",
    "capital_de_depart_1=              # Argent placé sur le livret A à l'année 0 par la personne 1\n",
    "\n",
    "# Personne 2\n",
    "capital_de_depart_2=              # Argent placé sur le livret A à l'année 0 par la personne 2"
   ]
  },
  {
   "cell_type": "code",
   "execution_count": 11,
   "id": "8a900d9b",
   "metadata": {},
   "outputs": [
    {
     "ename": "NameError",
     "evalue": "name 'capital_de_depart_1' is not defined",
     "output_type": "error",
     "traceback": [
      "\u001b[0;31m---------------------------------------------------------------------------\u001b[0m",
      "\u001b[0;31mNameError\u001b[0m                                 Traceback (most recent call last)",
      "\u001b[0;32m/tmp/ipykernel_7006/1863087502.py\u001b[0m in \u001b[0;36m<module>\u001b[0;34m\u001b[0m\n\u001b[1;32m      3\u001b[0m \u001b[0margent_gagne_1\u001b[0m\u001b[0;34m=\u001b[0m\u001b[0;34m[\u001b[0m\u001b[0;36m0\u001b[0m\u001b[0;34m]\u001b[0m\u001b[0;34m\u001b[0m\u001b[0;34m\u001b[0m\u001b[0m\n\u001b[1;32m      4\u001b[0m \u001b[0margent_gagne_2\u001b[0m\u001b[0;34m=\u001b[0m\u001b[0;34m[\u001b[0m\u001b[0;36m0\u001b[0m\u001b[0;34m]\u001b[0m\u001b[0;34m\u001b[0m\u001b[0;34m\u001b[0m\u001b[0m\n\u001b[0;32m----> 5\u001b[0;31m \u001b[0mcapital_1\u001b[0m\u001b[0;34m=\u001b[0m\u001b[0;34m[\u001b[0m\u001b[0mcapital_de_depart_1\u001b[0m\u001b[0;34m]\u001b[0m\u001b[0;34m\u001b[0m\u001b[0;34m\u001b[0m\u001b[0m\n\u001b[0m\u001b[1;32m      6\u001b[0m \u001b[0mcapital_2\u001b[0m\u001b[0;34m=\u001b[0m\u001b[0;34m[\u001b[0m\u001b[0mcapital_de_depart_2\u001b[0m\u001b[0;34m]\u001b[0m\u001b[0;34m\u001b[0m\u001b[0;34m\u001b[0m\u001b[0m\n\u001b[1;32m      7\u001b[0m \u001b[0;34m\u001b[0m\u001b[0m\n",
      "\u001b[0;31mNameError\u001b[0m: name 'capital_de_depart_1' is not defined"
     ]
    }
   ],
   "source": [
    "#### Calculs de l'argent gagné et du capitale pour chaque année####\n",
    "\n",
    "argent_gagne_1=[0]\n",
    "argent_gagne_2=[0]\n",
    "capital_1=[capital_de_depart_1]\n",
    "capital_2=[capital_de_depart_2]\n",
    "\n",
    "for i in range(nb_annees):\n",
    "    argent_gagne_1.append(round(capital_1[i]*taux/100,2))\n",
    "    capital_1.append(round(capital_1[i]+argent_gagne_1[-1],2))\n",
    "    \n",
    "    argent_gagne_2.append(round(capital_2[i]*taux/100,2))\n",
    "    capital_2.append(round(capital_2[i]+argent_gagne_2[-1],2))\n"
   ]
  },
  {
   "cell_type": "code",
   "execution_count": 12,
   "id": "47e8e479",
   "metadata": {
    "scrolled": false
   },
   "outputs": [
    {
     "ename": "NameError",
     "evalue": "name 'nb_annees' is not defined",
     "output_type": "error",
     "traceback": [
      "\u001b[0;31m---------------------------------------------------------------------------\u001b[0m",
      "\u001b[0;31mNameError\u001b[0m                                 Traceback (most recent call last)",
      "\u001b[0;32m/tmp/ipykernel_7006/2405328492.py\u001b[0m in \u001b[0;36m<module>\u001b[0;34m\u001b[0m\n\u001b[1;32m      1\u001b[0m \u001b[0;31m#### Argent gagné pour chaque année ####\u001b[0m\u001b[0;34m\u001b[0m\u001b[0;34m\u001b[0m\u001b[0m\n\u001b[1;32m      2\u001b[0m \u001b[0;34m\u001b[0m\u001b[0m\n\u001b[0;32m----> 3\u001b[0;31m \u001b[0mt\u001b[0m\u001b[0;34m=\u001b[0m\u001b[0mnp\u001b[0m\u001b[0;34m.\u001b[0m\u001b[0mlinspace\u001b[0m\u001b[0;34m(\u001b[0m\u001b[0;36m0\u001b[0m\u001b[0;34m,\u001b[0m\u001b[0mnb_annees\u001b[0m\u001b[0;34m,\u001b[0m\u001b[0mnb_annees\u001b[0m\u001b[0;34m+\u001b[0m\u001b[0;36m1\u001b[0m\u001b[0;34m)\u001b[0m\u001b[0;34m\u001b[0m\u001b[0;34m\u001b[0m\u001b[0m\n\u001b[0m\u001b[1;32m      4\u001b[0m \u001b[0mfig\u001b[0m\u001b[0;34m,\u001b[0m\u001b[0max\u001b[0m\u001b[0;34m=\u001b[0m\u001b[0mplt\u001b[0m\u001b[0;34m.\u001b[0m\u001b[0msubplots\u001b[0m\u001b[0;34m(\u001b[0m\u001b[0mfigsize\u001b[0m\u001b[0;34m=\u001b[0m\u001b[0;34m(\u001b[0m\u001b[0;36m10\u001b[0m\u001b[0;34m,\u001b[0m\u001b[0;36m4\u001b[0m\u001b[0;34m)\u001b[0m\u001b[0;34m)\u001b[0m\u001b[0;34m\u001b[0m\u001b[0;34m\u001b[0m\u001b[0m\n\u001b[1;32m      5\u001b[0m \u001b[0mplt\u001b[0m\u001b[0;34m.\u001b[0m\u001b[0msubplots_adjust\u001b[0m\u001b[0;34m(\u001b[0m\u001b[0mbottom\u001b[0m\u001b[0;34m=\u001b[0m\u001b[0;36m0.2\u001b[0m\u001b[0;34m)\u001b[0m\u001b[0;34m\u001b[0m\u001b[0;34m\u001b[0m\u001b[0m\n",
      "\u001b[0;31mNameError\u001b[0m: name 'nb_annees' is not defined"
     ]
    }
   ],
   "source": [
    "#### Argent gagné pour chaque année ####\n",
    "\n",
    "t=np.linspace(0,nb_annees,nb_annees+1)\n",
    "fig,ax=plt.subplots(figsize=(10,4))\n",
    "plt.subplots_adjust(bottom=0.2)\n",
    "if capital_de_depart_1>capital_de_depart_2:\n",
    "    ax.bar(t[1:], argent_gagne_1[1:],label='Personne 1',width=0.6)\n",
    "    ax.bar(t[1:],argent_gagne_2[1:],label='Personne 2',width=0.6)\n",
    "else: \n",
    "    ax.bar(t[1:], argent_gagne_2[1:],label='Personne 2',width=0.6)\n",
    "    ax.bar(t[1:],argent_gagne_1[1:],label='Personne 1',width=0.6)\n",
    "\n",
    "\n",
    "ax.set_xlabel(\"Nombre d'années\",fontsize=15)\n",
    "ax.set_ylabel(\"Argent gagné par année (€)\",fontsize=15)\n",
    "ax.set_xlim(0)\n",
    "\n",
    "\n",
    "plt.legend(fontsize=15)\n",
    "\n",
    "plt.xticks(fontsize=15)\n",
    "plt.yticks(fontsize=15)\n",
    "\n",
    "#plt.savefig('prenom_eleve_1_argent_gagne.pdf')"
   ]
  },
  {
   "cell_type": "code",
   "execution_count": 13,
   "id": "f3d3b3a7",
   "metadata": {},
   "outputs": [
    {
     "ename": "NameError",
     "evalue": "name 'capital_de_depart_1' is not defined",
     "output_type": "error",
     "traceback": [
      "\u001b[0;31m---------------------------------------------------------------------------\u001b[0m",
      "\u001b[0;31mNameError\u001b[0m                                 Traceback (most recent call last)",
      "\u001b[0;32m/tmp/ipykernel_7006/1437948790.py\u001b[0m in \u001b[0;36m<module>\u001b[0;34m\u001b[0m\n\u001b[1;32m      3\u001b[0m \u001b[0mfig\u001b[0m\u001b[0;34m,\u001b[0m\u001b[0max\u001b[0m\u001b[0;34m=\u001b[0m\u001b[0mplt\u001b[0m\u001b[0;34m.\u001b[0m\u001b[0msubplots\u001b[0m\u001b[0;34m(\u001b[0m\u001b[0mfigsize\u001b[0m\u001b[0;34m=\u001b[0m\u001b[0;34m(\u001b[0m\u001b[0;36m10\u001b[0m\u001b[0;34m,\u001b[0m\u001b[0;36m4\u001b[0m\u001b[0;34m)\u001b[0m\u001b[0;34m)\u001b[0m\u001b[0;34m\u001b[0m\u001b[0;34m\u001b[0m\u001b[0m\n\u001b[1;32m      4\u001b[0m \u001b[0mplt\u001b[0m\u001b[0;34m.\u001b[0m\u001b[0msubplots_adjust\u001b[0m\u001b[0;34m(\u001b[0m\u001b[0mbottom\u001b[0m\u001b[0;34m=\u001b[0m\u001b[0;36m0.2\u001b[0m\u001b[0;34m)\u001b[0m\u001b[0;34m\u001b[0m\u001b[0;34m\u001b[0m\u001b[0m\n\u001b[0;32m----> 5\u001b[0;31m \u001b[0;32mif\u001b[0m \u001b[0mcapital_de_depart_1\u001b[0m\u001b[0;34m>\u001b[0m\u001b[0mcapital_de_depart_2\u001b[0m\u001b[0;34m:\u001b[0m\u001b[0;34m\u001b[0m\u001b[0;34m\u001b[0m\u001b[0m\n\u001b[0m\u001b[1;32m      6\u001b[0m     \u001b[0max\u001b[0m\u001b[0;34m.\u001b[0m\u001b[0mbar\u001b[0m\u001b[0;34m(\u001b[0m\u001b[0mt\u001b[0m\u001b[0;34m[\u001b[0m\u001b[0;36m1\u001b[0m\u001b[0;34m:\u001b[0m\u001b[0;34m]\u001b[0m\u001b[0;34m,\u001b[0m \u001b[0mcapital_1\u001b[0m\u001b[0;34m[\u001b[0m\u001b[0;36m1\u001b[0m\u001b[0;34m:\u001b[0m\u001b[0;34m]\u001b[0m\u001b[0;34m,\u001b[0m\u001b[0mlabel\u001b[0m\u001b[0;34m=\u001b[0m\u001b[0;34m'Personne 1'\u001b[0m\u001b[0;34m,\u001b[0m\u001b[0mwidth\u001b[0m\u001b[0;34m=\u001b[0m\u001b[0;36m0.6\u001b[0m\u001b[0;34m)\u001b[0m\u001b[0;34m\u001b[0m\u001b[0;34m\u001b[0m\u001b[0m\n\u001b[1;32m      7\u001b[0m     \u001b[0max\u001b[0m\u001b[0;34m.\u001b[0m\u001b[0mbar\u001b[0m\u001b[0;34m(\u001b[0m\u001b[0mt\u001b[0m\u001b[0;34m[\u001b[0m\u001b[0;36m1\u001b[0m\u001b[0;34m:\u001b[0m\u001b[0;34m]\u001b[0m\u001b[0;34m,\u001b[0m \u001b[0mcapital_2\u001b[0m\u001b[0;34m[\u001b[0m\u001b[0;36m1\u001b[0m\u001b[0;34m:\u001b[0m\u001b[0;34m]\u001b[0m\u001b[0;34m,\u001b[0m\u001b[0mlabel\u001b[0m\u001b[0;34m=\u001b[0m\u001b[0;34m'Personne 2'\u001b[0m\u001b[0;34m,\u001b[0m\u001b[0mwidth\u001b[0m\u001b[0;34m=\u001b[0m\u001b[0;36m0.6\u001b[0m\u001b[0;34m)\u001b[0m\u001b[0;34m\u001b[0m\u001b[0;34m\u001b[0m\u001b[0m\n",
      "\u001b[0;31mNameError\u001b[0m: name 'capital_de_depart_1' is not defined"
     ]
    },
    {
     "data": {
      "image/png": "[encoded data removed]",
      "text/plain": [
       "<Figure size 720x288 with 1 Axes>"
      ]
     },
     "metadata": {
      "needs_background": "light"
     },
     "output_type": "display_data"
    }
   ],
   "source": [
    "#### Argent total sur le livret A pour chaque année ####\n",
    "\n",
    "fig,ax=plt.subplots(figsize=(10,4))\n",
    "plt.subplots_adjust(bottom=0.2)\n",
    "if capital_de_depart_1>capital_de_depart_2:\n",
    "    ax.bar(t[1:], capital_1[1:],label='Personne 1',width=0.6)\n",
    "    ax.bar(t[1:], capital_2[1:],label='Personne 2',width=0.6)\n",
    "else: \n",
    "    ax.bar(t[1:], capital_2[1:],label='Personne 2',width=0.6)\n",
    "    ax.bar(t[1:], capital_1[1:],label='Personne 1',width=0.6)\n",
    "\n",
    "\n",
    "ax.set_xlabel(\"Nombre d'années\",fontsize=15)\n",
    "ax.set_ylabel(\"Argent gagné par année (€)\",fontsize=15)\n",
    "ax.set_xlim(0)\n",
    "\n",
    "\n",
    "plt.legend(fontsize=15)\n",
    "\n",
    "plt.xticks(fontsize=15)\n",
    "plt.yticks(fontsize=15)\n",
    "\n",
    "#plt.savefig('prenom_eleve_1_capital.pdf')"
   ]
  },
  {
   "cell_type": "code",
   "execution_count": 14,
   "id": "5544a0e2",
   "metadata": {},
   "outputs": [
    {
     "name": "stdout",
     "output_type": "stream",
     "text": [
      "[0]\n"
     ]
    }
   ],
   "source": [
    "#### Bloc 5 ####\n",
    "print(argent_gagne_1)"
   ]
  },
  {
   "cell_type": "code",
   "execution_count": 15,
   "id": "7481cc2b",
   "metadata": {},
   "outputs": [
    {
     "name": "stdout",
     "output_type": "stream",
     "text": [
      "[0]\n"
     ]
    }
   ],
   "source": [
    "#### Bloc 6 ####\n",
    "print(argent_gagne_2)"
   ]
  },
  {
   "cell_type": "code",
   "execution_count": 16,
   "id": "17cf2d12",
   "metadata": {},
   "outputs": [
    {
     "ename": "SyntaxError",
     "evalue": "invalid syntax (993024947.py, line 2)",
     "output_type": "error",
     "traceback": [
      "\u001b[0;36m  File \u001b[0;32m\"/tmp/ipykernel_7006/993024947.py\"\u001b[0;36m, line \u001b[0;32m2\u001b[0m\n\u001b[0;31m    total_1=np.\u001b[0m\n\u001b[0m               ^\u001b[0m\n\u001b[0;31mSyntaxError\u001b[0m\u001b[0;31m:\u001b[0m invalid syntax\n"
     ]
    }
   ],
   "source": [
    "#### Bloc 7 ####\n",
    "total_1=np.\n",
    "total_2=np.\n",
    "\n",
    "print(\"Total de l'argent gagné par la personne 1 : \"+str(round(total_1,2))+\" €\")\n",
    "print(\"Total de l'argent gagné par la personne 2 : \"+str(round(total_2,2))+\" €\")"
   ]
  },
  {
   "cell_type": "code",
   "execution_count": null,
   "id": "bc40250d",
   "metadata": {},
   "outputs": [],
   "source": []
  }
 ],
 "metadata": {
  "kernelspec": {
   "display_name": "Python 3 (ipykernel)",
   "language": "python",
   "name": "python3"
  },
  "language_info": {
   "codemirror_mode": {
    "name": "ipython",
    "version": 3
   },
   "file_extension": ".py",
   "mimetype": "text/x-python",
   "name": "python",
   "nbconvert_exporter": "python",
   "pygments_lexer": "ipython3",
   "version": "3.10.6"
  }
 },
 "nbformat": 4,
 "nbformat_minor": 5
}
